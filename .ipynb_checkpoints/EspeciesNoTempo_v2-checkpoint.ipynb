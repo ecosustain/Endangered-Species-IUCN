{
 "cells": [
  {
   "cell_type": "code",
   "execution_count": 1,
   "metadata": {
    "id": "ODxdDzW4OjvX"
   },
   "outputs": [],
   "source": [
    "import json\n",
    "nome_arquivo = 'sample-formatted.json'\n",
    "data= {}\n",
    "i = 0\n",
    "with open(nome_arquivo, 'r') as f:\n",
    "    for line in f:\n",
    "        new_data = json.loads(line)\n",
    "        data.update({i: new_data})\n",
    "        i += 1"
   ]
  },
  {
   "cell_type": "code",
   "execution_count": 18,
   "metadata": {},
   "outputs": [],
   "source": [
    "import pandas as pd\n",
    "import matplotlib.pyplot as plt\n",
    "import datetime\n",
    "import plotly.graph_objects as go"
   ]
  },
  {
   "cell_type": "code",
   "execution_count": 11,
   "metadata": {
    "id": "K4mEXzXMO8-j"
   },
   "outputs": [],
   "source": [
    "mapping1 = {'NE': 0,\n",
    "            'LC': 1,\n",
    "            'LT': 2,\n",
    "            'VU': 3,\n",
    "            'EN': 4,\n",
    "            'CR': 5,\n",
    "            'RE':6,\n",
    "            'EW': 7,\n",
    "            'EX': 8}\n",
    "\n",
    "\n",
    "\n",
    "mapping2 = {\n",
    "            'NE': 'No Risk Data',\n",
    "            'LC': 'Least Concern',\n",
    "            'LT': 'Little Threatened',\n",
    "            'VU': 'Vulnerable',\n",
    "            'EN': 'Endangered',\n",
    "            'CR': 'Critically Endangered',\n",
    "            'RE': 'Regionally Extinct',\n",
    "            'EW': 'Extinct in the Wild',\n",
    "            'EX': 'Extinct'\n",
    "            }\n",
    "\n",
    "mapping3 = {'No Risk Data': 0,\n",
    "            'Least Concern': 1,\n",
    "            'Little Threatened': 2,\n",
    "            'Vulnerable': 3,\n",
    "            'Endangered': 4,\n",
    "            'Critically Endangered': 5,\n",
    "            'Regionally Extinct':6,\n",
    "            'Extinct in the Wild': 7,\n",
    "            'Extinct': 8}\n"
   ]
  },
  {
   "cell_type": "code",
   "execution_count": 9,
   "metadata": {},
   "outputs": [
    {
     "data": {
      "text/html": [
       "<div>\n",
       "<style scoped>\n",
       "    .dataframe tbody tr th:only-of-type {\n",
       "        vertical-align: middle;\n",
       "    }\n",
       "\n",
       "    .dataframe tbody tr th {\n",
       "        vertical-align: top;\n",
       "    }\n",
       "\n",
       "    .dataframe thead th {\n",
       "        text-align: right;\n",
       "    }\n",
       "</style>\n",
       "<table border=\"1\" class=\"dataframe\">\n",
       "  <thead>\n",
       "    <tr style=\"text-align: right;\">\n",
       "      <th></th>\n",
       "      <th>Unnamed: 0</th>\n",
       "      <th>locations</th>\n",
       "      <th>risk_category</th>\n",
       "      <th>threats</th>\n",
       "      <th>use_and_trade</th>\n",
       "      <th>year_published</th>\n",
       "      <th>taxon.class_name</th>\n",
       "      <th>taxon.family_name</th>\n",
       "      <th>taxon.kingdom_name</th>\n",
       "      <th>taxon.order_name</th>\n",
       "      <th>taxon.phylum_name</th>\n",
       "      <th>taxon.scientific_name</th>\n",
       "      <th>taxon.sis_id</th>\n",
       "    </tr>\n",
       "  </thead>\n",
       "  <tbody>\n",
       "    <tr>\n",
       "      <th>0</th>\n",
       "      <td>0</td>\n",
       "      <td>[{'country': 'Zimbabwe', 'presence': 'Extant'}...</td>\n",
       "      <td>LC</td>\n",
       "      <td>[]</td>\n",
       "      <td>['Unknown']</td>\n",
       "      <td>2019.0</td>\n",
       "      <td>MAGNOLIOPSIDA</td>\n",
       "      <td>BURSERACEAE</td>\n",
       "      <td>PLANTAE</td>\n",
       "      <td>SAPINDALES</td>\n",
       "      <td>TRACHEOPHYTA</td>\n",
       "      <td>Commiphora glandulosa</td>\n",
       "      <td>146223165</td>\n",
       "    </tr>\n",
       "    <tr>\n",
       "      <th>1</th>\n",
       "      <td>1</td>\n",
       "      <td>[{'country': 'Peru', 'presence': 'Extant'}, {'...</td>\n",
       "      <td>LC</td>\n",
       "      <td>[]</td>\n",
       "      <td>['Pets/display animals, horticulture']</td>\n",
       "      <td>2018.0</td>\n",
       "      <td>AVES</td>\n",
       "      <td>ICTERIDAE</td>\n",
       "      <td>ANIMALIA</td>\n",
       "      <td>PASSERIFORMES</td>\n",
       "      <td>CHORDATA</td>\n",
       "      <td>Dives warczewiczi</td>\n",
       "      <td>22724305</td>\n",
       "    </tr>\n",
       "    <tr>\n",
       "      <th>2</th>\n",
       "      <td>2</td>\n",
       "      <td>[{'country': 'Paraguay', 'presence': 'Extant'}...</td>\n",
       "      <td>NE</td>\n",
       "      <td>[]</td>\n",
       "      <td>['Unknown']</td>\n",
       "      <td>2000.0</td>\n",
       "      <td>AVES</td>\n",
       "      <td>BUCCONIDAE</td>\n",
       "      <td>ANIMALIA</td>\n",
       "      <td>PICIFORMES</td>\n",
       "      <td>CHORDATA</td>\n",
       "      <td>Notharchus swainsoni</td>\n",
       "      <td>22733165</td>\n",
       "    </tr>\n",
       "    <tr>\n",
       "      <th>3</th>\n",
       "      <td>3</td>\n",
       "      <td>[{'country': 'Togo', 'presence': 'Extant'}, {'...</td>\n",
       "      <td>LC</td>\n",
       "      <td>[]</td>\n",
       "      <td>['Food']</td>\n",
       "      <td>2015.0</td>\n",
       "      <td>ACTINOPTERYGII</td>\n",
       "      <td>MUGILIDAE</td>\n",
       "      <td>ANIMALIA</td>\n",
       "      <td>MUGILIFORMES</td>\n",
       "      <td>CHORDATA</td>\n",
       "      <td>Mugil curema</td>\n",
       "      <td>190168</td>\n",
       "    </tr>\n",
       "    <tr>\n",
       "      <th>4</th>\n",
       "      <td>4</td>\n",
       "      <td>[{'country': 'Ogasawara-shoto', 'presence': 'E...</td>\n",
       "      <td>NE</td>\n",
       "      <td>[]</td>\n",
       "      <td>['Unknown']</td>\n",
       "      <td>1996.0</td>\n",
       "      <td>GASTROPODA</td>\n",
       "      <td>CAMAENIDAE</td>\n",
       "      <td>ANIMALIA</td>\n",
       "      <td>STYLOMMATOPHORA</td>\n",
       "      <td>MOLLUSCA</td>\n",
       "      <td>Mandarina aureola</td>\n",
       "      <td>12741</td>\n",
       "    </tr>\n",
       "    <tr>\n",
       "      <th>...</th>\n",
       "      <td>...</td>\n",
       "      <td>...</td>\n",
       "      <td>...</td>\n",
       "      <td>...</td>\n",
       "      <td>...</td>\n",
       "      <td>...</td>\n",
       "      <td>...</td>\n",
       "      <td>...</td>\n",
       "      <td>...</td>\n",
       "      <td>...</td>\n",
       "      <td>...</td>\n",
       "      <td>...</td>\n",
       "      <td>...</td>\n",
       "    </tr>\n",
       "    <tr>\n",
       "      <th>320979</th>\n",
       "      <td>320979</td>\n",
       "      <td>[{'country': 'Rondônia', 'presence': 'Extant'}...</td>\n",
       "      <td>EN</td>\n",
       "      <td>['Agro-industry grazing, ranching or farming',...</td>\n",
       "      <td>['Unknown']</td>\n",
       "      <td>2021.0</td>\n",
       "      <td>ACTINOPTERYGII</td>\n",
       "      <td>RIVULIDAE</td>\n",
       "      <td>ANIMALIA</td>\n",
       "      <td>CYPRINODONTIFORMES</td>\n",
       "      <td>CHORDATA</td>\n",
       "      <td>Anablepsoides luitalimae</td>\n",
       "      <td>173823654</td>\n",
       "    </tr>\n",
       "    <tr>\n",
       "      <th>320980</th>\n",
       "      <td>320980</td>\n",
       "      <td>[{'country': 'Sicilia', 'presence': 'Extant'},...</td>\n",
       "      <td>EN</td>\n",
       "      <td>['Recreational activities', 'Tourism &amp; recreat...</td>\n",
       "      <td>['Unknown']</td>\n",
       "      <td>2016.0</td>\n",
       "      <td>INSECTA</td>\n",
       "      <td>ACRIDIDAE</td>\n",
       "      <td>ANIMALIA</td>\n",
       "      <td>ORTHOPTERA</td>\n",
       "      <td>ARTHROPODA</td>\n",
       "      <td>Sphingonotus personatus</td>\n",
       "      <td>16084535</td>\n",
       "    </tr>\n",
       "    <tr>\n",
       "      <th>320981</th>\n",
       "      <td>320981</td>\n",
       "      <td>[{'country': 'Solomon Islands', 'presence': 'E...</td>\n",
       "      <td>LC</td>\n",
       "      <td>[]</td>\n",
       "      <td>['Handicrafts, jewellery, etc.', 'Sport huntin...</td>\n",
       "      <td>2013.0</td>\n",
       "      <td>GASTROPODA</td>\n",
       "      <td>CONIDAE</td>\n",
       "      <td>ANIMALIA</td>\n",
       "      <td>NEOGASTROPODA</td>\n",
       "      <td>MOLLUSCA</td>\n",
       "      <td>Conus biliosus</td>\n",
       "      <td>192420</td>\n",
       "    </tr>\n",
       "    <tr>\n",
       "      <th>320982</th>\n",
       "      <td>320982</td>\n",
       "      <td>[]</td>\n",
       "      <td>EN</td>\n",
       "      <td>[]</td>\n",
       "      <td>['Unknown']</td>\n",
       "      <td>1986.0</td>\n",
       "      <td>MAMMALIA</td>\n",
       "      <td>CERCOPITHECIDAE</td>\n",
       "      <td>ANIMALIA</td>\n",
       "      <td>PRIMATES</td>\n",
       "      <td>CHORDATA</td>\n",
       "      <td>Mandrillus leucophaeus</td>\n",
       "      <td>12753</td>\n",
       "    </tr>\n",
       "    <tr>\n",
       "      <th>320983</th>\n",
       "      <td>320983</td>\n",
       "      <td>[{'country': \"Lao People's Democratic Republic...</td>\n",
       "      <td>LC</td>\n",
       "      <td>[]</td>\n",
       "      <td>['Food', 'Pets/display animals, horticulture']</td>\n",
       "      <td>2000.0</td>\n",
       "      <td>AVES</td>\n",
       "      <td>PELLORNEIDAE</td>\n",
       "      <td>ANIMALIA</td>\n",
       "      <td>PASSERIFORMES</td>\n",
       "      <td>CHORDATA</td>\n",
       "      <td>Schoeniparus dubius</td>\n",
       "      <td>22716627</td>\n",
       "    </tr>\n",
       "  </tbody>\n",
       "</table>\n",
       "<p>320984 rows × 13 columns</p>\n",
       "</div>"
      ],
      "text/plain": [
       "        Unnamed: 0                                          locations  \\\n",
       "0                0  [{'country': 'Zimbabwe', 'presence': 'Extant'}...   \n",
       "1                1  [{'country': 'Peru', 'presence': 'Extant'}, {'...   \n",
       "2                2  [{'country': 'Paraguay', 'presence': 'Extant'}...   \n",
       "3                3  [{'country': 'Togo', 'presence': 'Extant'}, {'...   \n",
       "4                4  [{'country': 'Ogasawara-shoto', 'presence': 'E...   \n",
       "...            ...                                                ...   \n",
       "320979      320979  [{'country': 'Rondônia', 'presence': 'Extant'}...   \n",
       "320980      320980  [{'country': 'Sicilia', 'presence': 'Extant'},...   \n",
       "320981      320981  [{'country': 'Solomon Islands', 'presence': 'E...   \n",
       "320982      320982                                                 []   \n",
       "320983      320983  [{'country': \"Lao People's Democratic Republic...   \n",
       "\n",
       "       risk_category                                            threats  \\\n",
       "0                 LC                                                 []   \n",
       "1                 LC                                                 []   \n",
       "2                 NE                                                 []   \n",
       "3                 LC                                                 []   \n",
       "4                 NE                                                 []   \n",
       "...              ...                                                ...   \n",
       "320979            EN  ['Agro-industry grazing, ranching or farming',...   \n",
       "320980            EN  ['Recreational activities', 'Tourism & recreat...   \n",
       "320981            LC                                                 []   \n",
       "320982            EN                                                 []   \n",
       "320983            LC                                                 []   \n",
       "\n",
       "                                            use_and_trade  year_published  \\\n",
       "0                                             ['Unknown']          2019.0   \n",
       "1                  ['Pets/display animals, horticulture']          2018.0   \n",
       "2                                             ['Unknown']          2000.0   \n",
       "3                                                ['Food']          2015.0   \n",
       "4                                             ['Unknown']          1996.0   \n",
       "...                                                   ...             ...   \n",
       "320979                                        ['Unknown']          2021.0   \n",
       "320980                                        ['Unknown']          2016.0   \n",
       "320981  ['Handicrafts, jewellery, etc.', 'Sport huntin...          2013.0   \n",
       "320982                                        ['Unknown']          1986.0   \n",
       "320983     ['Food', 'Pets/display animals, horticulture']          2000.0   \n",
       "\n",
       "       taxon.class_name taxon.family_name taxon.kingdom_name  \\\n",
       "0         MAGNOLIOPSIDA       BURSERACEAE            PLANTAE   \n",
       "1                  AVES         ICTERIDAE           ANIMALIA   \n",
       "2                  AVES        BUCCONIDAE           ANIMALIA   \n",
       "3        ACTINOPTERYGII         MUGILIDAE           ANIMALIA   \n",
       "4            GASTROPODA        CAMAENIDAE           ANIMALIA   \n",
       "...                 ...               ...                ...   \n",
       "320979   ACTINOPTERYGII         RIVULIDAE           ANIMALIA   \n",
       "320980          INSECTA         ACRIDIDAE           ANIMALIA   \n",
       "320981       GASTROPODA           CONIDAE           ANIMALIA   \n",
       "320982         MAMMALIA   CERCOPITHECIDAE           ANIMALIA   \n",
       "320983             AVES      PELLORNEIDAE           ANIMALIA   \n",
       "\n",
       "          taxon.order_name taxon.phylum_name     taxon.scientific_name  \\\n",
       "0               SAPINDALES      TRACHEOPHYTA     Commiphora glandulosa   \n",
       "1            PASSERIFORMES          CHORDATA         Dives warczewiczi   \n",
       "2               PICIFORMES          CHORDATA      Notharchus swainsoni   \n",
       "3             MUGILIFORMES          CHORDATA              Mugil curema   \n",
       "4          STYLOMMATOPHORA          MOLLUSCA         Mandarina aureola   \n",
       "...                    ...               ...                       ...   \n",
       "320979  CYPRINODONTIFORMES          CHORDATA  Anablepsoides luitalimae   \n",
       "320980          ORTHOPTERA        ARTHROPODA   Sphingonotus personatus   \n",
       "320981       NEOGASTROPODA          MOLLUSCA            Conus biliosus   \n",
       "320982            PRIMATES          CHORDATA    Mandrillus leucophaeus   \n",
       "320983       PASSERIFORMES          CHORDATA       Schoeniparus dubius   \n",
       "\n",
       "        taxon.sis_id  \n",
       "0          146223165  \n",
       "1           22724305  \n",
       "2           22733165  \n",
       "3             190168  \n",
       "4              12741  \n",
       "...              ...  \n",
       "320979     173823654  \n",
       "320980      16084535  \n",
       "320981        192420  \n",
       "320982         12753  \n",
       "320983      22716627  \n",
       "\n",
       "[320984 rows x 13 columns]"
      ]
     },
     "metadata": {},
     "output_type": "display_data"
    }
   ],
   "source": [
    "df = pd.read_csv(\"assessments.csv\")\n",
    "display(df)\n",
    "#df['categoriaOrdem'] = df['risk_category'].map(mapeamentoCategoriasOrdem)\n",
    "#display(df)\n",
    "#df['categoriaOrdem'] = df['categoria'].map(mapeamentoCategoriasOrdem)"
   ]
  },
  {
   "cell_type": "code",
   "execution_count": 14,
   "metadata": {},
   "outputs": [
    {
     "name": "stdout",
     "output_type": "stream",
     "text": [
      "[2019.0, 2018.0, 2000.0, 2015.0, 1996.0, 2008.0, 2020.0, 2004.0, 2021.0, 2012.0, 2010.0, 2006.0, 1998.0, 2003.0, 2023.0, 1988.0, 2017.0, 2024.0, 2016.0, 2011.0, 1994.0, 2014.0, 2009.0, 2022.0, 2013.0, 1990.0, nan, 1965.0, 1986.0, 2007.0, 2002.0, 2005.0, 1982.0, 1985.0, 1983.0, 1978.0, 1997.0, 2001.0, 1999.0, 1992.0]\n"
     ]
    }
   ],
   "source": [
    "an = list(df['year_published'].unique())\n",
    "print(an)"
   ]
  },
  {
   "cell_type": "code",
   "execution_count": 2,
   "metadata": {
    "id": "TNVj1XaFOsU8"
   },
   "outputs": [],
   "source": [
    "import pandas as pd\n",
    "\n",
    "df = pd.DataFrame.from_dict(data, orient='index')\n",
    "\n",
    "df_taxon = pd.json_normalize(df['taxon'])\n",
    "df = pd.concat([df, df_taxon], axis=1)\n",
    "df = df.drop('taxon', axis=1)\n",
    "\n",
    "df_locations = pd.json_normalize(df['locations'])\n",
    "df = pd.concat([df, df_locations], axis=1)\n",
    "df = df.drop('locations', axis=1)\n",
    "\n",
    "df = df[['year_published','red_list_category','scientific_name','sis_id',\n",
    "         'kingdom_name','phylum_name','class_name','order_name',\n",
    "         'family_name']]\n",
    "\n",
    "#Escolher uma classe: opcional\n",
    "classe = 'ACTINOPTERYGII'\n",
    "df = df[df['class_name'] == classe]\n",
    "df = df.reset_index(drop=True)\n",
    "\n",
    "df['year_published'] = pd.to_numeric(df['year_published'], errors='coerce')"
   ]
  },
  {
   "cell_type": "code",
   "execution_count": 4,
   "metadata": {
    "id": "MRWYWk7XTjOk"
   },
   "outputs": [],
   "source": [
    "df['categoria'] = df['red_list_category'].map(mapeamentoCategorias)\n",
    "df['categoriaOrdem'] = df['categoria'].map(mapeamentoCategoriasOrdem)"
   ]
  },
  {
   "cell_type": "markdown",
   "metadata": {
    "id": "-e2bVvwGbk5H"
   },
   "source": [
    "Espécies sugeridas: Acipenser fulvescens, Barbodes binotatus, Pseudobarbus erubescens, Pungu maclareni, Melanocharacidium blennioides, Barbodes palata, Characodon garmani"
   ]
  },
  {
   "cell_type": "code",
   "execution_count": null,
   "metadata": {
    "id": "oXDzn1G9RQKJ"
   },
   "outputs": [],
   "source": [
    "#especie = input(\"Escolha a espécie: \")"
   ]
  },
  {
   "cell_type": "code",
   "execution_count": 15,
   "metadata": {
    "colab": {
     "base_uri": "https://localhost:8080/",
     "height": 540
    },
    "id": "hFd1zM3lTD3a",
    "outputId": "d8757b17-0642-4cce-8363-18f07a012c8b"
   },
   "outputs": [
    {
     "ename": "KeyError",
     "evalue": "'scientific_name'",
     "output_type": "error",
     "traceback": [
      "\u001b[0;31m---------------------------------------------------------------------------\u001b[0m",
      "\u001b[0;31mKeyError\u001b[0m                                  Traceback (most recent call last)",
      "File \u001b[0;32m~/anaconda3/lib/python3.11/site-packages/pandas/core/indexes/base.py:3791\u001b[0m, in \u001b[0;36mIndex.get_loc\u001b[0;34m(self, key)\u001b[0m\n\u001b[1;32m   3790\u001b[0m \u001b[38;5;28;01mtry\u001b[39;00m:\n\u001b[0;32m-> 3791\u001b[0m     \u001b[38;5;28;01mreturn\u001b[39;00m \u001b[38;5;28mself\u001b[39m\u001b[38;5;241m.\u001b[39m_engine\u001b[38;5;241m.\u001b[39mget_loc(casted_key)\n\u001b[1;32m   3792\u001b[0m \u001b[38;5;28;01mexcept\u001b[39;00m \u001b[38;5;167;01mKeyError\u001b[39;00m \u001b[38;5;28;01mas\u001b[39;00m err:\n",
      "File \u001b[0;32mindex.pyx:152\u001b[0m, in \u001b[0;36mpandas._libs.index.IndexEngine.get_loc\u001b[0;34m()\u001b[0m\n",
      "File \u001b[0;32mindex.pyx:181\u001b[0m, in \u001b[0;36mpandas._libs.index.IndexEngine.get_loc\u001b[0;34m()\u001b[0m\n",
      "File \u001b[0;32mpandas/_libs/hashtable_class_helper.pxi:7080\u001b[0m, in \u001b[0;36mpandas._libs.hashtable.PyObjectHashTable.get_item\u001b[0;34m()\u001b[0m\n",
      "File \u001b[0;32mpandas/_libs/hashtable_class_helper.pxi:7088\u001b[0m, in \u001b[0;36mpandas._libs.hashtable.PyObjectHashTable.get_item\u001b[0;34m()\u001b[0m\n",
      "\u001b[0;31mKeyError\u001b[0m: 'scientific_name'",
      "\nThe above exception was the direct cause of the following exception:\n",
      "\u001b[0;31mKeyError\u001b[0m                                  Traceback (most recent call last)",
      "Cell \u001b[0;32mIn[15], line 8\u001b[0m\n\u001b[1;32m      5\u001b[0m \u001b[38;5;28;01mimport\u001b[39;00m \u001b[38;5;21;01mdatetime\u001b[39;00m\n\u001b[1;32m      6\u001b[0m year \u001b[38;5;241m=\u001b[39m datetime\u001b[38;5;241m.\u001b[39mdate\u001b[38;5;241m.\u001b[39mtoday()\u001b[38;5;241m.\u001b[39myear\n\u001b[0;32m----> 8\u001b[0m df_especie \u001b[38;5;241m=\u001b[39m df[df[\u001b[38;5;124m'\u001b[39m\u001b[38;5;124mscientific_name\u001b[39m\u001b[38;5;124m'\u001b[39m] \u001b[38;5;241m==\u001b[39m especie]\n\u001b[1;32m      9\u001b[0m df_especie \u001b[38;5;241m=\u001b[39m df_especie\u001b[38;5;241m.\u001b[39mdropna(subset\u001b[38;5;241m=\u001b[39m[\u001b[38;5;124m'\u001b[39m\u001b[38;5;124myear_published\u001b[39m\u001b[38;5;124m'\u001b[39m])\n\u001b[1;32m     10\u001b[0m df_especie[\u001b[38;5;124m\"\u001b[39m\u001b[38;5;124myear_published\u001b[39m\u001b[38;5;124m\"\u001b[39m] \u001b[38;5;241m=\u001b[39m df_especie[\u001b[38;5;124m\"\u001b[39m\u001b[38;5;124myear_published\u001b[39m\u001b[38;5;124m\"\u001b[39m]\u001b[38;5;241m.\u001b[39mastype(\u001b[38;5;28mint\u001b[39m)\n",
      "File \u001b[0;32m~/anaconda3/lib/python3.11/site-packages/pandas/core/frame.py:3893\u001b[0m, in \u001b[0;36mDataFrame.__getitem__\u001b[0;34m(self, key)\u001b[0m\n\u001b[1;32m   3891\u001b[0m \u001b[38;5;28;01mif\u001b[39;00m \u001b[38;5;28mself\u001b[39m\u001b[38;5;241m.\u001b[39mcolumns\u001b[38;5;241m.\u001b[39mnlevels \u001b[38;5;241m>\u001b[39m \u001b[38;5;241m1\u001b[39m:\n\u001b[1;32m   3892\u001b[0m     \u001b[38;5;28;01mreturn\u001b[39;00m \u001b[38;5;28mself\u001b[39m\u001b[38;5;241m.\u001b[39m_getitem_multilevel(key)\n\u001b[0;32m-> 3893\u001b[0m indexer \u001b[38;5;241m=\u001b[39m \u001b[38;5;28mself\u001b[39m\u001b[38;5;241m.\u001b[39mcolumns\u001b[38;5;241m.\u001b[39mget_loc(key)\n\u001b[1;32m   3894\u001b[0m \u001b[38;5;28;01mif\u001b[39;00m is_integer(indexer):\n\u001b[1;32m   3895\u001b[0m     indexer \u001b[38;5;241m=\u001b[39m [indexer]\n",
      "File \u001b[0;32m~/anaconda3/lib/python3.11/site-packages/pandas/core/indexes/base.py:3798\u001b[0m, in \u001b[0;36mIndex.get_loc\u001b[0;34m(self, key)\u001b[0m\n\u001b[1;32m   3793\u001b[0m     \u001b[38;5;28;01mif\u001b[39;00m \u001b[38;5;28misinstance\u001b[39m(casted_key, \u001b[38;5;28mslice\u001b[39m) \u001b[38;5;129;01mor\u001b[39;00m (\n\u001b[1;32m   3794\u001b[0m         \u001b[38;5;28misinstance\u001b[39m(casted_key, abc\u001b[38;5;241m.\u001b[39mIterable)\n\u001b[1;32m   3795\u001b[0m         \u001b[38;5;129;01mand\u001b[39;00m \u001b[38;5;28many\u001b[39m(\u001b[38;5;28misinstance\u001b[39m(x, \u001b[38;5;28mslice\u001b[39m) \u001b[38;5;28;01mfor\u001b[39;00m x \u001b[38;5;129;01min\u001b[39;00m casted_key)\n\u001b[1;32m   3796\u001b[0m     ):\n\u001b[1;32m   3797\u001b[0m         \u001b[38;5;28;01mraise\u001b[39;00m InvalidIndexError(key)\n\u001b[0;32m-> 3798\u001b[0m     \u001b[38;5;28;01mraise\u001b[39;00m \u001b[38;5;167;01mKeyError\u001b[39;00m(key) \u001b[38;5;28;01mfrom\u001b[39;00m \u001b[38;5;21;01merr\u001b[39;00m\n\u001b[1;32m   3799\u001b[0m \u001b[38;5;28;01mexcept\u001b[39;00m \u001b[38;5;167;01mTypeError\u001b[39;00m:\n\u001b[1;32m   3800\u001b[0m     \u001b[38;5;66;03m# If we have a listlike key, _check_indexing_error will raise\u001b[39;00m\n\u001b[1;32m   3801\u001b[0m     \u001b[38;5;66;03m#  InvalidIndexError. Otherwise we fall through and re-raise\u001b[39;00m\n\u001b[1;32m   3802\u001b[0m     \u001b[38;5;66;03m#  the TypeError.\u001b[39;00m\n\u001b[1;32m   3803\u001b[0m     \u001b[38;5;28mself\u001b[39m\u001b[38;5;241m.\u001b[39m_check_indexing_error(key)\n",
      "\u001b[0;31mKeyError\u001b[0m: 'scientific_name'"
     ]
    }
   ],
   "source": [
    "#Matplotlib\n",
    "\n",
    "especie = 'Acipenser fulvescens'\n",
    "import matplotlib.pyplot as plt\n",
    "import datetime\n",
    "year = datetime.date.today().year\n",
    "\n",
    "df_especie = df[df['scientific_name'] == especie]\n",
    "df_especie = df_especie.dropna(subset=['year_published'])\n",
    "df_especie[\"year_published\"] = df_especie[\"year_published\"].astype(int)\n",
    "\n",
    "if len(df_especie) == 0:\n",
    "    print(f\"Não foram encontradas espécies com o nome {especie}\")\n",
    "else:\n",
    "\n",
    "  ano = pd.Series(list(range(min(df_especie['year_published']), year+1)),\n",
    "                name=\"Anos\")\n",
    "  df_plot = ano.to_frame()\n",
    "  df_plot = df_plot.merge(df_especie[['year_published', 'risk_category']], how='left', left_on='Anos', right_on='year_published')\n",
    "  df_plot.drop('year_published', axis=1, inplace=True)\n",
    "  df['categoriaOrdem'] = df['risk_category'].map(mapeamentoCategoriasOrdem)\n",
    "  df_plot = df_plot.ffill()\n",
    "\n",
    "  plt.figure(figsize=(12, 6))\n",
    "  plt.plot(df_plot['Anos'], df_plot['categoriaOrdem'], color='darkred')\n",
    "  y_ticks = list(mapeamentoCategoriasOrdem.keys())\n",
    "  y_tick_positions = list(mapeamentoCategoriasOrdem.values())\n",
    "  plt.yticks(y_tick_positions, y_ticks, size = 9)\n",
    "  plt.xticks(df_plot['Anos'].unique(), size = 6)\n",
    "  plt.title(f'Risco de extinção da espécie {especie} ao longo dos anos')\n",
    "  plt.grid(False)\n",
    "  plt.show()\n"
   ]
  },
  {
   "cell_type": "code",
   "execution_count": 21,
   "metadata": {
    "colab": {
     "base_uri": "https://localhost:8080/",
     "height": 617
    },
    "id": "8kNZUvbKTryf",
    "outputId": "91098611-20a4-49d4-b15e-9ab6af014a00"
   },
   "outputs": [
    {
     "data": {
      "application/vnd.plotly.v1+json": {
       "config": {
        "plotlyServerURL": "https://plot.ly"
       },
       "data": [
        {
         "line": {
          "color": "darkred"
         },
         "mode": "lines",
         "name": "Risco de Extinção",
         "type": "scatter",
         "x": [
          1986,
          1987,
          1988,
          1989,
          1990,
          1991,
          1992,
          1993,
          1994,
          1995,
          1996,
          1997,
          1998,
          1999,
          2000,
          2001,
          2002,
          2003,
          2004,
          2005,
          2006,
          2007,
          2008,
          2009,
          2010,
          2011,
          2012,
          2013,
          2014,
          2015,
          2016,
          2017,
          2018,
          2019,
          2020,
          2021,
          2022,
          2023,
          2024
         ],
         "y": [
          3,
          3,
          3,
          3,
          3,
          3,
          3,
          3,
          3,
          3,
          3,
          3,
          3,
          3,
          3,
          3,
          3,
          3,
          1,
          1,
          1,
          1,
          1,
          1,
          1,
          1,
          1,
          1,
          1,
          1,
          1,
          1,
          1,
          1,
          1,
          1,
          4,
          4,
          4
         ]
        }
       ],
       "layout": {
        "height": 600,
        "template": {
         "data": {
          "bar": [
           {
            "error_x": {
             "color": "#2a3f5f"
            },
            "error_y": {
             "color": "#2a3f5f"
            },
            "marker": {
             "line": {
              "color": "#E5ECF6",
              "width": 0.5
             },
             "pattern": {
              "fillmode": "overlay",
              "size": 10,
              "solidity": 0.2
             }
            },
            "type": "bar"
           }
          ],
          "barpolar": [
           {
            "marker": {
             "line": {
              "color": "#E5ECF6",
              "width": 0.5
             },
             "pattern": {
              "fillmode": "overlay",
              "size": 10,
              "solidity": 0.2
             }
            },
            "type": "barpolar"
           }
          ],
          "carpet": [
           {
            "aaxis": {
             "endlinecolor": "#2a3f5f",
             "gridcolor": "white",
             "linecolor": "white",
             "minorgridcolor": "white",
             "startlinecolor": "#2a3f5f"
            },
            "baxis": {
             "endlinecolor": "#2a3f5f",
             "gridcolor": "white",
             "linecolor": "white",
             "minorgridcolor": "white",
             "startlinecolor": "#2a3f5f"
            },
            "type": "carpet"
           }
          ],
          "choropleth": [
           {
            "colorbar": {
             "outlinewidth": 0,
             "ticks": ""
            },
            "type": "choropleth"
           }
          ],
          "contour": [
           {
            "colorbar": {
             "outlinewidth": 0,
             "ticks": ""
            },
            "colorscale": [
             [
              0,
              "#0d0887"
             ],
             [
              0.1111111111111111,
              "#46039f"
             ],
             [
              0.2222222222222222,
              "#7201a8"
             ],
             [
              0.3333333333333333,
              "#9c179e"
             ],
             [
              0.4444444444444444,
              "#bd3786"
             ],
             [
              0.5555555555555556,
              "#d8576b"
             ],
             [
              0.6666666666666666,
              "#ed7953"
             ],
             [
              0.7777777777777778,
              "#fb9f3a"
             ],
             [
              0.8888888888888888,
              "#fdca26"
             ],
             [
              1,
              "#f0f921"
             ]
            ],
            "type": "contour"
           }
          ],
          "contourcarpet": [
           {
            "colorbar": {
             "outlinewidth": 0,
             "ticks": ""
            },
            "type": "contourcarpet"
           }
          ],
          "heatmap": [
           {
            "colorbar": {
             "outlinewidth": 0,
             "ticks": ""
            },
            "colorscale": [
             [
              0,
              "#0d0887"
             ],
             [
              0.1111111111111111,
              "#46039f"
             ],
             [
              0.2222222222222222,
              "#7201a8"
             ],
             [
              0.3333333333333333,
              "#9c179e"
             ],
             [
              0.4444444444444444,
              "#bd3786"
             ],
             [
              0.5555555555555556,
              "#d8576b"
             ],
             [
              0.6666666666666666,
              "#ed7953"
             ],
             [
              0.7777777777777778,
              "#fb9f3a"
             ],
             [
              0.8888888888888888,
              "#fdca26"
             ],
             [
              1,
              "#f0f921"
             ]
            ],
            "type": "heatmap"
           }
          ],
          "heatmapgl": [
           {
            "colorbar": {
             "outlinewidth": 0,
             "ticks": ""
            },
            "colorscale": [
             [
              0,
              "#0d0887"
             ],
             [
              0.1111111111111111,
              "#46039f"
             ],
             [
              0.2222222222222222,
              "#7201a8"
             ],
             [
              0.3333333333333333,
              "#9c179e"
             ],
             [
              0.4444444444444444,
              "#bd3786"
             ],
             [
              0.5555555555555556,
              "#d8576b"
             ],
             [
              0.6666666666666666,
              "#ed7953"
             ],
             [
              0.7777777777777778,
              "#fb9f3a"
             ],
             [
              0.8888888888888888,
              "#fdca26"
             ],
             [
              1,
              "#f0f921"
             ]
            ],
            "type": "heatmapgl"
           }
          ],
          "histogram": [
           {
            "marker": {
             "pattern": {
              "fillmode": "overlay",
              "size": 10,
              "solidity": 0.2
             }
            },
            "type": "histogram"
           }
          ],
          "histogram2d": [
           {
            "colorbar": {
             "outlinewidth": 0,
             "ticks": ""
            },
            "colorscale": [
             [
              0,
              "#0d0887"
             ],
             [
              0.1111111111111111,
              "#46039f"
             ],
             [
              0.2222222222222222,
              "#7201a8"
             ],
             [
              0.3333333333333333,
              "#9c179e"
             ],
             [
              0.4444444444444444,
              "#bd3786"
             ],
             [
              0.5555555555555556,
              "#d8576b"
             ],
             [
              0.6666666666666666,
              "#ed7953"
             ],
             [
              0.7777777777777778,
              "#fb9f3a"
             ],
             [
              0.8888888888888888,
              "#fdca26"
             ],
             [
              1,
              "#f0f921"
             ]
            ],
            "type": "histogram2d"
           }
          ],
          "histogram2dcontour": [
           {
            "colorbar": {
             "outlinewidth": 0,
             "ticks": ""
            },
            "colorscale": [
             [
              0,
              "#0d0887"
             ],
             [
              0.1111111111111111,
              "#46039f"
             ],
             [
              0.2222222222222222,
              "#7201a8"
             ],
             [
              0.3333333333333333,
              "#9c179e"
             ],
             [
              0.4444444444444444,
              "#bd3786"
             ],
             [
              0.5555555555555556,
              "#d8576b"
             ],
             [
              0.6666666666666666,
              "#ed7953"
             ],
             [
              0.7777777777777778,
              "#fb9f3a"
             ],
             [
              0.8888888888888888,
              "#fdca26"
             ],
             [
              1,
              "#f0f921"
             ]
            ],
            "type": "histogram2dcontour"
           }
          ],
          "mesh3d": [
           {
            "colorbar": {
             "outlinewidth": 0,
             "ticks": ""
            },
            "type": "mesh3d"
           }
          ],
          "parcoords": [
           {
            "line": {
             "colorbar": {
              "outlinewidth": 0,
              "ticks": ""
             }
            },
            "type": "parcoords"
           }
          ],
          "pie": [
           {
            "automargin": true,
            "type": "pie"
           }
          ],
          "scatter": [
           {
            "fillpattern": {
             "fillmode": "overlay",
             "size": 10,
             "solidity": 0.2
            },
            "type": "scatter"
           }
          ],
          "scatter3d": [
           {
            "line": {
             "colorbar": {
              "outlinewidth": 0,
              "ticks": ""
             }
            },
            "marker": {
             "colorbar": {
              "outlinewidth": 0,
              "ticks": ""
             }
            },
            "type": "scatter3d"
           }
          ],
          "scattercarpet": [
           {
            "marker": {
             "colorbar": {
              "outlinewidth": 0,
              "ticks": ""
             }
            },
            "type": "scattercarpet"
           }
          ],
          "scattergeo": [
           {
            "marker": {
             "colorbar": {
              "outlinewidth": 0,
              "ticks": ""
             }
            },
            "type": "scattergeo"
           }
          ],
          "scattergl": [
           {
            "marker": {
             "colorbar": {
              "outlinewidth": 0,
              "ticks": ""
             }
            },
            "type": "scattergl"
           }
          ],
          "scattermapbox": [
           {
            "marker": {
             "colorbar": {
              "outlinewidth": 0,
              "ticks": ""
             }
            },
            "type": "scattermapbox"
           }
          ],
          "scatterpolar": [
           {
            "marker": {
             "colorbar": {
              "outlinewidth": 0,
              "ticks": ""
             }
            },
            "type": "scatterpolar"
           }
          ],
          "scatterpolargl": [
           {
            "marker": {
             "colorbar": {
              "outlinewidth": 0,
              "ticks": ""
             }
            },
            "type": "scatterpolargl"
           }
          ],
          "scatterternary": [
           {
            "marker": {
             "colorbar": {
              "outlinewidth": 0,
              "ticks": ""
             }
            },
            "type": "scatterternary"
           }
          ],
          "surface": [
           {
            "colorbar": {
             "outlinewidth": 0,
             "ticks": ""
            },
            "colorscale": [
             [
              0,
              "#0d0887"
             ],
             [
              0.1111111111111111,
              "#46039f"
             ],
             [
              0.2222222222222222,
              "#7201a8"
             ],
             [
              0.3333333333333333,
              "#9c179e"
             ],
             [
              0.4444444444444444,
              "#bd3786"
             ],
             [
              0.5555555555555556,
              "#d8576b"
             ],
             [
              0.6666666666666666,
              "#ed7953"
             ],
             [
              0.7777777777777778,
              "#fb9f3a"
             ],
             [
              0.8888888888888888,
              "#fdca26"
             ],
             [
              1,
              "#f0f921"
             ]
            ],
            "type": "surface"
           }
          ],
          "table": [
           {
            "cells": {
             "fill": {
              "color": "#EBF0F8"
             },
             "line": {
              "color": "white"
             }
            },
            "header": {
             "fill": {
              "color": "#C8D4E3"
             },
             "line": {
              "color": "white"
             }
            },
            "type": "table"
           }
          ]
         },
         "layout": {
          "annotationdefaults": {
           "arrowcolor": "#2a3f5f",
           "arrowhead": 0,
           "arrowwidth": 1
          },
          "autotypenumbers": "strict",
          "coloraxis": {
           "colorbar": {
            "outlinewidth": 0,
            "ticks": ""
           }
          },
          "colorscale": {
           "diverging": [
            [
             0,
             "#8e0152"
            ],
            [
             0.1,
             "#c51b7d"
            ],
            [
             0.2,
             "#de77ae"
            ],
            [
             0.3,
             "#f1b6da"
            ],
            [
             0.4,
             "#fde0ef"
            ],
            [
             0.5,
             "#f7f7f7"
            ],
            [
             0.6,
             "#e6f5d0"
            ],
            [
             0.7,
             "#b8e186"
            ],
            [
             0.8,
             "#7fbc41"
            ],
            [
             0.9,
             "#4d9221"
            ],
            [
             1,
             "#276419"
            ]
           ],
           "sequential": [
            [
             0,
             "#0d0887"
            ],
            [
             0.1111111111111111,
             "#46039f"
            ],
            [
             0.2222222222222222,
             "#7201a8"
            ],
            [
             0.3333333333333333,
             "#9c179e"
            ],
            [
             0.4444444444444444,
             "#bd3786"
            ],
            [
             0.5555555555555556,
             "#d8576b"
            ],
            [
             0.6666666666666666,
             "#ed7953"
            ],
            [
             0.7777777777777778,
             "#fb9f3a"
            ],
            [
             0.8888888888888888,
             "#fdca26"
            ],
            [
             1,
             "#f0f921"
            ]
           ],
           "sequentialminus": [
            [
             0,
             "#0d0887"
            ],
            [
             0.1111111111111111,
             "#46039f"
            ],
            [
             0.2222222222222222,
             "#7201a8"
            ],
            [
             0.3333333333333333,
             "#9c179e"
            ],
            [
             0.4444444444444444,
             "#bd3786"
            ],
            [
             0.5555555555555556,
             "#d8576b"
            ],
            [
             0.6666666666666666,
             "#ed7953"
            ],
            [
             0.7777777777777778,
             "#fb9f3a"
            ],
            [
             0.8888888888888888,
             "#fdca26"
            ],
            [
             1,
             "#f0f921"
            ]
           ]
          },
          "colorway": [
           "#636efa",
           "#EF553B",
           "#00cc96",
           "#ab63fa",
           "#FFA15A",
           "#19d3f3",
           "#FF6692",
           "#B6E880",
           "#FF97FF",
           "#FECB52"
          ],
          "font": {
           "color": "#2a3f5f"
          },
          "geo": {
           "bgcolor": "white",
           "lakecolor": "white",
           "landcolor": "#E5ECF6",
           "showlakes": true,
           "showland": true,
           "subunitcolor": "white"
          },
          "hoverlabel": {
           "align": "left"
          },
          "hovermode": "closest",
          "mapbox": {
           "style": "light"
          },
          "paper_bgcolor": "white",
          "plot_bgcolor": "#E5ECF6",
          "polar": {
           "angularaxis": {
            "gridcolor": "white",
            "linecolor": "white",
            "ticks": ""
           },
           "bgcolor": "#E5ECF6",
           "radialaxis": {
            "gridcolor": "white",
            "linecolor": "white",
            "ticks": ""
           }
          },
          "scene": {
           "xaxis": {
            "backgroundcolor": "#E5ECF6",
            "gridcolor": "white",
            "gridwidth": 2,
            "linecolor": "white",
            "showbackground": true,
            "ticks": "",
            "zerolinecolor": "white"
           },
           "yaxis": {
            "backgroundcolor": "#E5ECF6",
            "gridcolor": "white",
            "gridwidth": 2,
            "linecolor": "white",
            "showbackground": true,
            "ticks": "",
            "zerolinecolor": "white"
           },
           "zaxis": {
            "backgroundcolor": "#E5ECF6",
            "gridcolor": "white",
            "gridwidth": 2,
            "linecolor": "white",
            "showbackground": true,
            "ticks": "",
            "zerolinecolor": "white"
           }
          },
          "shapedefaults": {
           "line": {
            "color": "#2a3f5f"
           }
          },
          "ternary": {
           "aaxis": {
            "gridcolor": "white",
            "linecolor": "white",
            "ticks": ""
           },
           "baxis": {
            "gridcolor": "white",
            "linecolor": "white",
            "ticks": ""
           },
           "bgcolor": "#E5ECF6",
           "caxis": {
            "gridcolor": "white",
            "linecolor": "white",
            "ticks": ""
           }
          },
          "title": {
           "x": 0.05
          },
          "xaxis": {
           "automargin": true,
           "gridcolor": "white",
           "linecolor": "white",
           "ticks": "",
           "title": {
            "standoff": 15
           },
           "zerolinecolor": "white",
           "zerolinewidth": 2
          },
          "yaxis": {
           "automargin": true,
           "gridcolor": "white",
           "linecolor": "white",
           "ticks": "",
           "title": {
            "standoff": 15
           },
           "zerolinecolor": "white",
           "zerolinewidth": 2
          }
         }
        },
        "title": {
         "text": "Risco de extinção da espécie Acipenser fulvescens ao longo dos anos"
        },
        "width": 1200,
        "xaxis": {
         "showgrid": false,
         "title": {
          "text": "Years"
         }
        },
        "yaxis": {
         "range": [
          0,
          8
         ],
         "showgrid": false,
         "tickmode": "array",
         "ticktext": [
          "No Risk Data",
          "Least Concern",
          "Little Threatened",
          "Vulnerable",
          "Endangered",
          "Critically Endangered",
          "Regionally Extinct",
          "Extinct in the Wild",
          "Extinct"
         ],
         "tickvals": [
          0,
          1,
          2,
          3,
          4,
          5,
          6,
          7,
          8
         ],
         "title": {
          "text": "Risk Category"
         }
        }
       }
      },
      "text/html": [
       "<div>                            <div id=\"1f8369e2-ab47-4604-8e25-741882ef0b43\" class=\"plotly-graph-div\" style=\"height:600px; width:1200px;\"></div>            <script type=\"text/javascript\">                require([\"plotly\"], function(Plotly) {                    window.PLOTLYENV=window.PLOTLYENV || {};                                    if (document.getElementById(\"1f8369e2-ab47-4604-8e25-741882ef0b43\")) {                    Plotly.newPlot(                        \"1f8369e2-ab47-4604-8e25-741882ef0b43\",                        [{\"line\":{\"color\":\"darkred\"},\"mode\":\"lines\",\"name\":\"Risco de Extin\\u00e7\\u00e3o\",\"x\":[1986,1987,1988,1989,1990,1991,1992,1993,1994,1995,1996,1997,1998,1999,2000,2001,2002,2003,2004,2005,2006,2007,2008,2009,2010,2011,2012,2013,2014,2015,2016,2017,2018,2019,2020,2021,2022,2023,2024],\"y\":[3.0,3.0,3.0,3.0,3.0,3.0,3.0,3.0,3.0,3.0,3.0,3.0,3.0,3.0,3.0,3.0,3.0,3.0,1.0,1.0,1.0,1.0,1.0,1.0,1.0,1.0,1.0,1.0,1.0,1.0,1.0,1.0,1.0,1.0,1.0,1.0,4.0,4.0,4.0],\"type\":\"scatter\"}],                        {\"template\":{\"data\":{\"histogram2dcontour\":[{\"type\":\"histogram2dcontour\",\"colorbar\":{\"outlinewidth\":0,\"ticks\":\"\"},\"colorscale\":[[0.0,\"#0d0887\"],[0.1111111111111111,\"#46039f\"],[0.2222222222222222,\"#7201a8\"],[0.3333333333333333,\"#9c179e\"],[0.4444444444444444,\"#bd3786\"],[0.5555555555555556,\"#d8576b\"],[0.6666666666666666,\"#ed7953\"],[0.7777777777777778,\"#fb9f3a\"],[0.8888888888888888,\"#fdca26\"],[1.0,\"#f0f921\"]]}],\"choropleth\":[{\"type\":\"choropleth\",\"colorbar\":{\"outlinewidth\":0,\"ticks\":\"\"}}],\"histogram2d\":[{\"type\":\"histogram2d\",\"colorbar\":{\"outlinewidth\":0,\"ticks\":\"\"},\"colorscale\":[[0.0,\"#0d0887\"],[0.1111111111111111,\"#46039f\"],[0.2222222222222222,\"#7201a8\"],[0.3333333333333333,\"#9c179e\"],[0.4444444444444444,\"#bd3786\"],[0.5555555555555556,\"#d8576b\"],[0.6666666666666666,\"#ed7953\"],[0.7777777777777778,\"#fb9f3a\"],[0.8888888888888888,\"#fdca26\"],[1.0,\"#f0f921\"]]}],\"heatmap\":[{\"type\":\"heatmap\",\"colorbar\":{\"outlinewidth\":0,\"ticks\":\"\"},\"colorscale\":[[0.0,\"#0d0887\"],[0.1111111111111111,\"#46039f\"],[0.2222222222222222,\"#7201a8\"],[0.3333333333333333,\"#9c179e\"],[0.4444444444444444,\"#bd3786\"],[0.5555555555555556,\"#d8576b\"],[0.6666666666666666,\"#ed7953\"],[0.7777777777777778,\"#fb9f3a\"],[0.8888888888888888,\"#fdca26\"],[1.0,\"#f0f921\"]]}],\"heatmapgl\":[{\"type\":\"heatmapgl\",\"colorbar\":{\"outlinewidth\":0,\"ticks\":\"\"},\"colorscale\":[[0.0,\"#0d0887\"],[0.1111111111111111,\"#46039f\"],[0.2222222222222222,\"#7201a8\"],[0.3333333333333333,\"#9c179e\"],[0.4444444444444444,\"#bd3786\"],[0.5555555555555556,\"#d8576b\"],[0.6666666666666666,\"#ed7953\"],[0.7777777777777778,\"#fb9f3a\"],[0.8888888888888888,\"#fdca26\"],[1.0,\"#f0f921\"]]}],\"contourcarpet\":[{\"type\":\"contourcarpet\",\"colorbar\":{\"outlinewidth\":0,\"ticks\":\"\"}}],\"contour\":[{\"type\":\"contour\",\"colorbar\":{\"outlinewidth\":0,\"ticks\":\"\"},\"colorscale\":[[0.0,\"#0d0887\"],[0.1111111111111111,\"#46039f\"],[0.2222222222222222,\"#7201a8\"],[0.3333333333333333,\"#9c179e\"],[0.4444444444444444,\"#bd3786\"],[0.5555555555555556,\"#d8576b\"],[0.6666666666666666,\"#ed7953\"],[0.7777777777777778,\"#fb9f3a\"],[0.8888888888888888,\"#fdca26\"],[1.0,\"#f0f921\"]]}],\"surface\":[{\"type\":\"surface\",\"colorbar\":{\"outlinewidth\":0,\"ticks\":\"\"},\"colorscale\":[[0.0,\"#0d0887\"],[0.1111111111111111,\"#46039f\"],[0.2222222222222222,\"#7201a8\"],[0.3333333333333333,\"#9c179e\"],[0.4444444444444444,\"#bd3786\"],[0.5555555555555556,\"#d8576b\"],[0.6666666666666666,\"#ed7953\"],[0.7777777777777778,\"#fb9f3a\"],[0.8888888888888888,\"#fdca26\"],[1.0,\"#f0f921\"]]}],\"mesh3d\":[{\"type\":\"mesh3d\",\"colorbar\":{\"outlinewidth\":0,\"ticks\":\"\"}}],\"scatter\":[{\"fillpattern\":{\"fillmode\":\"overlay\",\"size\":10,\"solidity\":0.2},\"type\":\"scatter\"}],\"parcoords\":[{\"type\":\"parcoords\",\"line\":{\"colorbar\":{\"outlinewidth\":0,\"ticks\":\"\"}}}],\"scatterpolargl\":[{\"type\":\"scatterpolargl\",\"marker\":{\"colorbar\":{\"outlinewidth\":0,\"ticks\":\"\"}}}],\"bar\":[{\"error_x\":{\"color\":\"#2a3f5f\"},\"error_y\":{\"color\":\"#2a3f5f\"},\"marker\":{\"line\":{\"color\":\"#E5ECF6\",\"width\":0.5},\"pattern\":{\"fillmode\":\"overlay\",\"size\":10,\"solidity\":0.2}},\"type\":\"bar\"}],\"scattergeo\":[{\"type\":\"scattergeo\",\"marker\":{\"colorbar\":{\"outlinewidth\":0,\"ticks\":\"\"}}}],\"scatterpolar\":[{\"type\":\"scatterpolar\",\"marker\":{\"colorbar\":{\"outlinewidth\":0,\"ticks\":\"\"}}}],\"histogram\":[{\"marker\":{\"pattern\":{\"fillmode\":\"overlay\",\"size\":10,\"solidity\":0.2}},\"type\":\"histogram\"}],\"scattergl\":[{\"type\":\"scattergl\",\"marker\":{\"colorbar\":{\"outlinewidth\":0,\"ticks\":\"\"}}}],\"scatter3d\":[{\"type\":\"scatter3d\",\"line\":{\"colorbar\":{\"outlinewidth\":0,\"ticks\":\"\"}},\"marker\":{\"colorbar\":{\"outlinewidth\":0,\"ticks\":\"\"}}}],\"scattermapbox\":[{\"type\":\"scattermapbox\",\"marker\":{\"colorbar\":{\"outlinewidth\":0,\"ticks\":\"\"}}}],\"scatterternary\":[{\"type\":\"scatterternary\",\"marker\":{\"colorbar\":{\"outlinewidth\":0,\"ticks\":\"\"}}}],\"scattercarpet\":[{\"type\":\"scattercarpet\",\"marker\":{\"colorbar\":{\"outlinewidth\":0,\"ticks\":\"\"}}}],\"carpet\":[{\"aaxis\":{\"endlinecolor\":\"#2a3f5f\",\"gridcolor\":\"white\",\"linecolor\":\"white\",\"minorgridcolor\":\"white\",\"startlinecolor\":\"#2a3f5f\"},\"baxis\":{\"endlinecolor\":\"#2a3f5f\",\"gridcolor\":\"white\",\"linecolor\":\"white\",\"minorgridcolor\":\"white\",\"startlinecolor\":\"#2a3f5f\"},\"type\":\"carpet\"}],\"table\":[{\"cells\":{\"fill\":{\"color\":\"#EBF0F8\"},\"line\":{\"color\":\"white\"}},\"header\":{\"fill\":{\"color\":\"#C8D4E3\"},\"line\":{\"color\":\"white\"}},\"type\":\"table\"}],\"barpolar\":[{\"marker\":{\"line\":{\"color\":\"#E5ECF6\",\"width\":0.5},\"pattern\":{\"fillmode\":\"overlay\",\"size\":10,\"solidity\":0.2}},\"type\":\"barpolar\"}],\"pie\":[{\"automargin\":true,\"type\":\"pie\"}]},\"layout\":{\"autotypenumbers\":\"strict\",\"colorway\":[\"#636efa\",\"#EF553B\",\"#00cc96\",\"#ab63fa\",\"#FFA15A\",\"#19d3f3\",\"#FF6692\",\"#B6E880\",\"#FF97FF\",\"#FECB52\"],\"font\":{\"color\":\"#2a3f5f\"},\"hovermode\":\"closest\",\"hoverlabel\":{\"align\":\"left\"},\"paper_bgcolor\":\"white\",\"plot_bgcolor\":\"#E5ECF6\",\"polar\":{\"bgcolor\":\"#E5ECF6\",\"angularaxis\":{\"gridcolor\":\"white\",\"linecolor\":\"white\",\"ticks\":\"\"},\"radialaxis\":{\"gridcolor\":\"white\",\"linecolor\":\"white\",\"ticks\":\"\"}},\"ternary\":{\"bgcolor\":\"#E5ECF6\",\"aaxis\":{\"gridcolor\":\"white\",\"linecolor\":\"white\",\"ticks\":\"\"},\"baxis\":{\"gridcolor\":\"white\",\"linecolor\":\"white\",\"ticks\":\"\"},\"caxis\":{\"gridcolor\":\"white\",\"linecolor\":\"white\",\"ticks\":\"\"}},\"coloraxis\":{\"colorbar\":{\"outlinewidth\":0,\"ticks\":\"\"}},\"colorscale\":{\"sequential\":[[0.0,\"#0d0887\"],[0.1111111111111111,\"#46039f\"],[0.2222222222222222,\"#7201a8\"],[0.3333333333333333,\"#9c179e\"],[0.4444444444444444,\"#bd3786\"],[0.5555555555555556,\"#d8576b\"],[0.6666666666666666,\"#ed7953\"],[0.7777777777777778,\"#fb9f3a\"],[0.8888888888888888,\"#fdca26\"],[1.0,\"#f0f921\"]],\"sequentialminus\":[[0.0,\"#0d0887\"],[0.1111111111111111,\"#46039f\"],[0.2222222222222222,\"#7201a8\"],[0.3333333333333333,\"#9c179e\"],[0.4444444444444444,\"#bd3786\"],[0.5555555555555556,\"#d8576b\"],[0.6666666666666666,\"#ed7953\"],[0.7777777777777778,\"#fb9f3a\"],[0.8888888888888888,\"#fdca26\"],[1.0,\"#f0f921\"]],\"diverging\":[[0,\"#8e0152\"],[0.1,\"#c51b7d\"],[0.2,\"#de77ae\"],[0.3,\"#f1b6da\"],[0.4,\"#fde0ef\"],[0.5,\"#f7f7f7\"],[0.6,\"#e6f5d0\"],[0.7,\"#b8e186\"],[0.8,\"#7fbc41\"],[0.9,\"#4d9221\"],[1,\"#276419\"]]},\"xaxis\":{\"gridcolor\":\"white\",\"linecolor\":\"white\",\"ticks\":\"\",\"title\":{\"standoff\":15},\"zerolinecolor\":\"white\",\"automargin\":true,\"zerolinewidth\":2},\"yaxis\":{\"gridcolor\":\"white\",\"linecolor\":\"white\",\"ticks\":\"\",\"title\":{\"standoff\":15},\"zerolinecolor\":\"white\",\"automargin\":true,\"zerolinewidth\":2},\"scene\":{\"xaxis\":{\"backgroundcolor\":\"#E5ECF6\",\"gridcolor\":\"white\",\"linecolor\":\"white\",\"showbackground\":true,\"ticks\":\"\",\"zerolinecolor\":\"white\",\"gridwidth\":2},\"yaxis\":{\"backgroundcolor\":\"#E5ECF6\",\"gridcolor\":\"white\",\"linecolor\":\"white\",\"showbackground\":true,\"ticks\":\"\",\"zerolinecolor\":\"white\",\"gridwidth\":2},\"zaxis\":{\"backgroundcolor\":\"#E5ECF6\",\"gridcolor\":\"white\",\"linecolor\":\"white\",\"showbackground\":true,\"ticks\":\"\",\"zerolinecolor\":\"white\",\"gridwidth\":2}},\"shapedefaults\":{\"line\":{\"color\":\"#2a3f5f\"}},\"annotationdefaults\":{\"arrowcolor\":\"#2a3f5f\",\"arrowhead\":0,\"arrowwidth\":1},\"geo\":{\"bgcolor\":\"white\",\"landcolor\":\"#E5ECF6\",\"subunitcolor\":\"white\",\"showland\":true,\"showlakes\":true,\"lakecolor\":\"white\"},\"title\":{\"x\":0.05},\"mapbox\":{\"style\":\"light\"}}},\"yaxis\":{\"title\":{\"text\":\"Risk Category\"},\"range\":[0,8],\"tickmode\":\"array\",\"tickvals\":[0,1,2,3,4,5,6,7,8],\"ticktext\":[\"No Risk Data\",\"Least Concern\",\"Little Threatened\",\"Vulnerable\",\"Endangered\",\"Critically Endangered\",\"Regionally Extinct\",\"Extinct in the Wild\",\"Extinct\"],\"showgrid\":false},\"xaxis\":{\"title\":{\"text\":\"Years\"},\"showgrid\":false},\"title\":{\"text\":\"Risco de extin\\u00e7\\u00e3o da esp\\u00e9cie Acipenser fulvescens ao longo dos anos\"},\"width\":1200,\"height\":600},                        {\"responsive\": true}                    ).then(function(){\n",
       "                            \n",
       "var gd = document.getElementById('1f8369e2-ab47-4604-8e25-741882ef0b43');\n",
       "var x = new MutationObserver(function (mutations, observer) {{\n",
       "        var display = window.getComputedStyle(gd).display;\n",
       "        if (!display || display === 'none') {{\n",
       "            console.log([gd, 'removed!']);\n",
       "            Plotly.purge(gd);\n",
       "            observer.disconnect();\n",
       "        }}\n",
       "}});\n",
       "\n",
       "// Listen for the removal of the full notebook cells\n",
       "var notebookContainer = gd.closest('#notebook-container');\n",
       "if (notebookContainer) {{\n",
       "    x.observe(notebookContainer, {childList: true});\n",
       "}}\n",
       "\n",
       "// Listen for the clearing of the current output cell\n",
       "var outputEl = gd.closest('.output');\n",
       "if (outputEl) {{\n",
       "    x.observe(outputEl, {childList: true});\n",
       "}}\n",
       "\n",
       "                        })                };                });            </script>        </div>"
      ]
     },
     "metadata": {},
     "output_type": "display_data"
    }
   ],
   "source": [
    "#Plotly\n",
    "\n",
    "especie = 'Acipenser fulvescens'\n",
    "#import datetime\n",
    "#import plotly.graph_objects as go\n",
    "\n",
    "year = datetime.date.today().year\n",
    "\n",
    "df_especie = df[df['taxon.scientific_name'] == especie]\n",
    "\n",
    "if len(df_especie) == 0:\n",
    "    print(f\"Não foram encontradas espécies com o nome {especie}\")\n",
    "else:\n",
    "    df_especie = df_especie.dropna(subset=['year_published'])\n",
    "    df_especie[\"year_published\"] = df_especie[\"year_published\"].astype(int)\n",
    "    ano = pd.Series(list(range(min(df_especie['year_published']), year+1)), name=\"Anos\")\n",
    "    df_plot = ano.to_frame()\n",
    "    df_plot = df_plot.merge(df_especie[['year_published', 'risk_category']], how='left', left_on='Anos', right_on='year_published')\n",
    "    df_plot['categoriaOrdem'] = df_plot['risk_category'].map(mapping1)\n",
    "    df_plot.drop('year_published', axis=1, inplace=True)\n",
    "    df_plot = df_plot.ffill()\n",
    "\n",
    "    fig = go.Figure()\n",
    "    fig.add_trace(go.Scatter(x=df_plot['Anos'], y=df_plot['categoriaOrdem'],\n",
    "                         mode='lines',\n",
    "                         line=dict(color='darkred'),\n",
    "                         name='Risco de Extinção'))\n",
    "    fig.update_layout(title=f'Risco de extinção da espécie {especie} ao longo dos anos',\n",
    "                    xaxis_title='Years',\n",
    "                    yaxis_title='Risk Category',\n",
    "                    yaxis_range=[0,8],\n",
    "                    yaxis=dict(tickmode='array',\n",
    "                               tickvals=list(mapping3.values()),\n",
    "                               ticktext=list(mapping3.keys())),\n",
    "                    xaxis_showgrid=False,\n",
    "                    yaxis_showgrid=False,\n",
    "                    width=1200,\n",
    "                    height=600)\n",
    "    fig.show()"
   ]
  },
  {
   "cell_type": "code",
   "execution_count": null,
   "metadata": {},
   "outputs": [],
   "source": [
    "app = dash.Dash(__name__)\n",
    "\n",
    "# Layout atualizado do app Dash\n",
    "app.layout = html.Div([\n",
    "\n",
    "    # Caixa principal com filtros e gráfico\n",
    "    html.Div([\n",
    "    \thtml.Div([\n",
    "            html.H2(\"Interactive Species Use Chart\", style={\n",
    "                \"text-align\": \"center\",\n",
    "                \"color\": \"#AD180D\",\n",
    "                \"margin-bottom\": \"20px\",\n",
    "                \"font-size\": \"2em\",\n",
    "                \"font-weight\": \"bold\",\n",
    "            })\n",
    "        ], style={\"width\": \"100%\"}),\n",
    "        # Filtros e Opções\n",
    "        html.Div([\n",
    "            html.H3(\"Filters and Options\", style={\n",
    "            \"color\": \"#DA2A1C\",\n",
    "            \"font-size\": \"22px\",\n",
    "            \"text-align\": \"center\",\n",
    "            \"text-weight\": \"bold\"\n",
    "            })\n",
    "\n",
    "            html.Div([\n",
    "                html.H4(\"Filtering by Taxonomy\", style={\"color\": \"#AD180D\"}),\n",
    "                dcc.Dropdown(id=\"specie-dropdown\", placeholder=\"Select a species\", style={\"margin-bottom\": \"10px\"}),\n",
    "            ], style={\"margin-bottom\": \"20px\"})\n",
    "            ])\n",
    "        ], style={\n",
    "            \"width\": \"30%\",\n",
    "            \"background-color\": \"#f9f9f9\",\n",
    "            \"padding\": \"0px 20px 20px 20px\",\n",
    "            \"border\": \"1px solid #ddd\",\n",
    "            \"border-radius\": \"5px\",\n",
    "            \"box-shadow\": \"2px 2px 5px #ccc\"\n",
    "        }),\n",
    "\n",
    "        # Gráfico\n",
    "        dcc.Graph(\n",
    "            id=\"stacked-bar-chart\",\n",
    "            style={\n",
    "                \"height\": \"600px\",\n",
    "                \"width\": \"65%\",\n",
    "                \"border\": \"1px solid #ddd\",\n",
    "                \"border-radius\": \"5px\",\n",
    "                \"padding\": \"10px\",\n",
    "                \"background-color\": \"#ffffff\",\n",
    "                \"box-shadow\": \"2px 2px 5px #ccc\"\n",
    "            }\n",
    "        )\n",
    "    ], style={\n",
    "        \"display\": \"flex\",\n",
    "        \"flex-direction\": \"row\",\n",
    "        \"justify-content\": \"space-between\",\n",
    "        \"flex-wrap\": \"wrap\", \n",
    "        \"align-items\": \"flex-start\",\n",
    "        \"margin\": \"20px auto\",\n",
    "        \"width\": \"90%\",\n",
    "        \"background-color\": \"#ffffff\",\n",
    "        \"padding\": \"20px\",\n",
    "        \"border-radius\": \"10px\"\n",
    "    })\n",
    "], style={\"font-family\": \"Arial, sans-serif\", \"background-color\": \"#fff\", \"margin\": \"0 auto\"})"
   ]
  },
  {
   "cell_type": "code",
   "execution_count": null,
   "metadata": {
    "id": "mDN5omqv3N6l"
   },
   "outputs": [],
   "source": [
    "import pandas as pd\n",
    "import matplotlib.pyplot as plt\n",
    "import datetime\n",
    "import plotly.graph_objects as go\n",
    "\n",
    "mapping1 = {'NE': 0,\n",
    "            'LC': 1,\n",
    "            'LT': 2,\n",
    "            'VU': 3,\n",
    "            'EN': 4,\n",
    "            'CR': 5,\n",
    "            'RE': 6,\n",
    "            'EW': 7,\n",
    "            'EX': 8}\n",
    "\n",
    "\n",
    "mapping3 = {'No Risk Data': 0,\n",
    "            'Least Concern': 1,\n",
    "            'Little Threatened': 2,\n",
    "            'Vulnerable': 3,\n",
    "            'Endangered': 4,\n",
    "            'Critically Endangered': 5,\n",
    "            'Regionally Extinct': 6,\n",
    "            'Extinct in the Wild': 7,\n",
    "            'Extinct': 8}\n",
    "\n",
    "df = pd.read_csv(\"assessments.csv\")\n",
    "\n",
    "especie = 'Acipenser fulvescens'\n",
    "\n",
    "year = datetime.date.today().year\n",
    "\n",
    "df_especie = df[df['taxon.scientific_name'] == especie]\n",
    "\n",
    "if len(df_especie) == 0:\n",
    "    print(f\"No species with the name {especie} were found\")\n",
    "else:\n",
    "    df_especie = df_especie.dropna(subset=['year_published'])\n",
    "    df_especie[\"year_published\"] = df_especie[\"year_published\"].astype(int)\n",
    "    ano = pd.Series(list(range(min(df_especie['year_published']), year+1)), name=\"Years\")\n",
    "    df_plot = ano.to_frame()\n",
    "    df_plot = df_plot.merge(df_especie[['year_published', 'risk_category']], how='left', left_on='Anos', right_on='year_published')\n",
    "    df_plot['categoriaOrdem'] = df_plot['risk_category'].map(mapping1)\n",
    "    df_plot.drop('year_published', axis=1, inplace=True)\n",
    "    df_plot = df_plot.ffill()\n",
    "\n",
    "    fig = go.Figure()\n",
    "    fig.add_trace(go.Scatter(x=df_plot['Years'], y=df_plot['categoriaOrdem'],\n",
    "                         mode='lines',\n",
    "                         line=dict(color='darkred'),\n",
    "                         name='Risco de Extinção'))\n",
    "    fig.update_layout(title=f'Risco de extinção da espécie {especie} ao longo dos anos',\n",
    "                    xaxis_title='Years',\n",
    "                    yaxis_title='Risk Category',\n",
    "                    yaxis_range=[0,8],\n",
    "                    yaxis=dict(tickmode='array',\n",
    "                               tickvals=list(mapping3.values()),\n",
    "                               ticktext=list(mapping3.keys())),\n",
    "                    xaxis_showgrid=False,\n",
    "                    yaxis_showgrid=False,\n",
    "                    width=1200,\n",
    "                    height=600)\n",
    "    fig.show()"
   ]
  }
 ],
 "metadata": {
  "colab": {
   "provenance": []
  },
  "kernelspec": {
   "display_name": "Python 3 (ipykernel)",
   "language": "python",
   "name": "python3"
  },
  "language_info": {
   "codemirror_mode": {
    "name": "ipython",
    "version": 3
   },
   "file_extension": ".py",
   "mimetype": "text/x-python",
   "name": "python",
   "nbconvert_exporter": "python",
   "pygments_lexer": "ipython3",
   "version": "3.11.8"
  }
 },
 "nbformat": 4,
 "nbformat_minor": 1
}
